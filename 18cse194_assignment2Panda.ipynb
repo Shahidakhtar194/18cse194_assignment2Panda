{
  "nbformat": 4,
  "nbformat_minor": 0,
  "metadata": {
    "colab": {
      "name": "18cse194_assignment2Panda.ipynb",
      "provenance": [],
      "authorship_tag": "ABX9TyOrNndK/TRrHg8YmRGRkGE7",
      "include_colab_link": true
    },
    "kernelspec": {
      "name": "python3",
      "display_name": "Python 3"
    }
  },
  "cells": [
    {
      "cell_type": "markdown",
      "metadata": {
        "id": "view-in-github",
        "colab_type": "text"
      },
      "source": [
        "<a href=\"https://colab.research.google.com/github/Shahidakhtar194/18cse194_assignment2Panda/blob/main/18cse194_assignment2Panda.ipynb\" target=\"_parent\"><img src=\"https://colab.research.google.com/assets/colab-badge.svg\" alt=\"Open In Colab\"/></a>"
      ]
    },
    {
      "cell_type": "code",
      "metadata": {
        "id": "rpAmIzAHOoOL",
        "outputId": "7ccabaeb-b7b5-4241-df9e-d5ed8414855f",
        "colab": {
          "base_uri": "https://localhost:8080/"
        }
      },
      "source": [
        "# import pandas as pd\n",
        "import pandas as pd\n",
        " \n",
        "# list of strings\n",
        "lst = ['mango', 'orange', 'banana', 'guva' ]\n",
        "            \n",
        " \n",
        "# Calling DataFrame constructor on list\n",
        "df = pd.DataFrame(lst)\n",
        "print(df)"
      ],
      "execution_count": null,
      "outputs": [
        {
          "output_type": "stream",
          "text": [
            "        0\n",
            "0   mango\n",
            "1  orange\n",
            "2  banana\n",
            "3    guva\n"
          ],
          "name": "stdout"
        }
      ]
    },
    {
      "cell_type": "code",
      "metadata": {
        "id": "9aGWmQ7rTX1w",
        "outputId": "caf7717e-5e8f-402d-d83c-7a8f376aee4c",
        "colab": {
          "base_uri": "https://localhost:8080/"
        }
      },
      "source": [
        "import pandas as pd\n",
        " \n",
        "# intialise data of lists.\n",
        "data = {'Name':['shahid', 'shraban', 'Rohit', 'krishna'],\n",
        "        'Age':[20, 19, 20, 18]}\n",
        " \n",
        "# Create DataFrame\n",
        "df = pd.DataFrame(data)\n",
        " \n",
        "# Print the output.\n",
        "print(df)"
      ],
      "execution_count": null,
      "outputs": [
        {
          "output_type": "stream",
          "text": [
            "      Name  Age\n",
            "0   shahid   20\n",
            "1  shraban   19\n",
            "2    Rohit   20\n",
            "3  krishna   18\n"
          ],
          "name": "stdout"
        }
      ]
    },
    {
      "cell_type": "code",
      "metadata": {
        "id": "rwylsAAeTtwS",
        "outputId": "26a4cec6-0d3d-4fb7-eff6-e945ebcc6aa8",
        "colab": {
          "base_uri": "https://localhost:8080/"
        }
      },
      "source": [
        "\n",
        "import pandas as pd\n",
        " \n",
        "# Define a dictionary containing employee data\n",
        "data = {'Name':['shahid', 'shraban', 'Rohit', 'statis'],\n",
        "        'Age':[20, 19, 18, 21],\n",
        "        'Address':['Kalaiya', 'sarlahi', 'malangwa', 'bara'],\n",
        "        'Qualification':['Btech', 'Bsc', 'csIT', 'MBBS']}\n",
        "df = pd.DataFrame(data)\n",
        "print(df[['Name', 'Qualification']])"
      ],
      "execution_count": null,
      "outputs": [
        {
          "output_type": "stream",
          "text": [
            "      Name Qualification\n",
            "0   shahid         Btech\n",
            "1  shraban           Bsc\n",
            "2    Rohit          csIT\n",
            "3   statis          MBBS\n"
          ],
          "name": "stdout"
        }
      ]
    },
    {
      "cell_type": "code",
      "metadata": {
        "id": "50ut8ZiJVi5f",
        "outputId": "20e1a122-b662-4088-a946-be78b2dcf59a",
        "colab": {
          "base_uri": "https://localhost:8080/",
          "height": 166
        }
      },
      "source": [
        "# importing pandas as pd\n",
        "import pandas as pd\n",
        " \n",
        "# importing numpy as np\n",
        "import numpy as np\n",
        " \n",
        "# dictionary of lists\n",
        "dict = {'First Score':[100, 90, np.nan, 95],\n",
        "        'Second Score': [30, 45, 56, np.nan],\n",
        "        'Third Score':[np.nan, 40, 80, 98]}\n",
        " \n",
        "# creating a dataframe from list\n",
        "df = pd.DataFrame(dict)\n",
        " \n",
        "# using isnull() function  \n",
        "df.isnull()"
      ],
      "execution_count": null,
      "outputs": [
        {
          "output_type": "execute_result",
          "data": {
            "text/html": [
              "<div>\n",
              "<style scoped>\n",
              "    .dataframe tbody tr th:only-of-type {\n",
              "        vertical-align: middle;\n",
              "    }\n",
              "\n",
              "    .dataframe tbody tr th {\n",
              "        vertical-align: top;\n",
              "    }\n",
              "\n",
              "    .dataframe thead th {\n",
              "        text-align: right;\n",
              "    }\n",
              "</style>\n",
              "<table border=\"1\" class=\"dataframe\">\n",
              "  <thead>\n",
              "    <tr style=\"text-align: right;\">\n",
              "      <th></th>\n",
              "      <th>First Score</th>\n",
              "      <th>Second Score</th>\n",
              "      <th>Third Score</th>\n",
              "    </tr>\n",
              "  </thead>\n",
              "  <tbody>\n",
              "    <tr>\n",
              "      <th>0</th>\n",
              "      <td>False</td>\n",
              "      <td>False</td>\n",
              "      <td>True</td>\n",
              "    </tr>\n",
              "    <tr>\n",
              "      <th>1</th>\n",
              "      <td>False</td>\n",
              "      <td>False</td>\n",
              "      <td>False</td>\n",
              "    </tr>\n",
              "    <tr>\n",
              "      <th>2</th>\n",
              "      <td>True</td>\n",
              "      <td>False</td>\n",
              "      <td>False</td>\n",
              "    </tr>\n",
              "    <tr>\n",
              "      <th>3</th>\n",
              "      <td>False</td>\n",
              "      <td>True</td>\n",
              "      <td>False</td>\n",
              "    </tr>\n",
              "  </tbody>\n",
              "</table>\n",
              "</div>"
            ],
            "text/plain": [
              "   First Score  Second Score  Third Score\n",
              "0        False         False         True\n",
              "1        False         False        False\n",
              "2         True         False        False\n",
              "3        False          True        False"
            ]
          },
          "metadata": {
            "tags": []
          },
          "execution_count": 14
        }
      ]
    },
    {
      "cell_type": "code",
      "metadata": {
        "id": "Q7NMmnbQVvnc",
        "outputId": "d00fab99-5bf7-4a55-fe3c-ab0330b7a497",
        "colab": {
          "base_uri": "https://localhost:8080/",
          "height": 166
        }
      },
      "source": [
        "# importing pandas as pd\n",
        "import pandas as pd\n",
        " \n",
        "# importing numpy as np\n",
        "import numpy as np\n",
        " \n",
        "# dictionary of lists\n",
        "dict = {'First Score':[100, 90, np.nan, 95],\n",
        "        'Second Score': [30, 45, 56, np.nan],\n",
        "        'Third Score':[np.nan, 40, 80, 98]}\n",
        " \n",
        "# creating a dataframe from dictionary\n",
        "df = pd.DataFrame(dict)\n",
        " \n",
        "# filling missing value using fillna()  \n",
        "df.fillna(0)"
      ],
      "execution_count": null,
      "outputs": [
        {
          "output_type": "execute_result",
          "data": {
            "text/html": [
              "<div>\n",
              "<style scoped>\n",
              "    .dataframe tbody tr th:only-of-type {\n",
              "        vertical-align: middle;\n",
              "    }\n",
              "\n",
              "    .dataframe tbody tr th {\n",
              "        vertical-align: top;\n",
              "    }\n",
              "\n",
              "    .dataframe thead th {\n",
              "        text-align: right;\n",
              "    }\n",
              "</style>\n",
              "<table border=\"1\" class=\"dataframe\">\n",
              "  <thead>\n",
              "    <tr style=\"text-align: right;\">\n",
              "      <th></th>\n",
              "      <th>First Score</th>\n",
              "      <th>Second Score</th>\n",
              "      <th>Third Score</th>\n",
              "    </tr>\n",
              "  </thead>\n",
              "  <tbody>\n",
              "    <tr>\n",
              "      <th>0</th>\n",
              "      <td>100.0</td>\n",
              "      <td>30.0</td>\n",
              "      <td>0.0</td>\n",
              "    </tr>\n",
              "    <tr>\n",
              "      <th>1</th>\n",
              "      <td>90.0</td>\n",
              "      <td>45.0</td>\n",
              "      <td>40.0</td>\n",
              "    </tr>\n",
              "    <tr>\n",
              "      <th>2</th>\n",
              "      <td>0.0</td>\n",
              "      <td>56.0</td>\n",
              "      <td>80.0</td>\n",
              "    </tr>\n",
              "    <tr>\n",
              "      <th>3</th>\n",
              "      <td>95.0</td>\n",
              "      <td>0.0</td>\n",
              "      <td>98.0</td>\n",
              "    </tr>\n",
              "  </tbody>\n",
              "</table>\n",
              "</div>"
            ],
            "text/plain": [
              "   First Score  Second Score  Third Score\n",
              "0        100.0          30.0          0.0\n",
              "1         90.0          45.0         40.0\n",
              "2          0.0          56.0         80.0\n",
              "3         95.0           0.0         98.0"
            ]
          },
          "metadata": {
            "tags": []
          },
          "execution_count": 16
        }
      ]
    },
    {
      "cell_type": "code",
      "metadata": {
        "id": "Dc7_gR6QV4oE",
        "outputId": "076ef0d0-a952-4f89-ed50-00a8eb146b2e",
        "colab": {
          "base_uri": "https://localhost:8080/"
        }
      },
      "source": [
        "\n",
        "# importing pandas as pd\n",
        "import pandas as pd\n",
        "  \n",
        "# dictionary of lists\n",
        "dict = {'name':[\"shaid\", \"shraban\", \"manoj\", \"shambhu\"],\n",
        "        'degree': [\"BTECH\", \"CSIT\", \"M.Tech\", \"MBA\"],\n",
        "        'score':[90, 40, 80, 98]}\n",
        " \n",
        "# creating a dataframe from a dictionary \n",
        "df = pd.DataFrame(dict)\n",
        " \n",
        "print(df)"
      ],
      "execution_count": null,
      "outputs": [
        {
          "output_type": "stream",
          "text": [
            "      name  degree  score\n",
            "0    shaid   BTECH     90\n",
            "1  shraban    CSIT     40\n",
            "2    manoj  M.Tech     80\n",
            "3  shambhu     MBA     98\n"
          ],
          "name": "stdout"
        }
      ]
    },
    {
      "cell_type": "code",
      "metadata": {
        "id": "_BAM7KukW5RZ",
        "outputId": "1ad882af-d30f-4a83-e869-98419cd0dc3c",
        "colab": {
          "base_uri": "https://localhost:8080/"
        }
      },
      "source": [
        "# importing pandas as pd\n",
        "import pandas as pd\n",
        "  \n",
        "# dictionary of lists\n",
        "dict = {'name':[\"shaid\", \"shraban\", \"manoj\", \"shambhu\"],\n",
        "        'degree': [\"BTECH\", \"CSIT\", \"M.Tech\", \"MBA\"],\n",
        "        'score':[95, 48, 88, 98]}\n",
        " \n",
        "# creating a dataframe from a dictionary \n",
        "df = pd.DataFrame(dict)\n",
        " \n",
        "# iterating over rows using iterrows() function \n",
        "for i, j in df.iterrows():\n",
        "    print(i, j)\n",
        "    print()"
      ],
      "execution_count": null,
      "outputs": [
        {
          "output_type": "stream",
          "text": [
            "0 name      shaid\n",
            "degree    BTECH\n",
            "score        95\n",
            "Name: 0, dtype: object\n",
            "\n",
            "1 name      shraban\n",
            "degree       CSIT\n",
            "score          48\n",
            "Name: 1, dtype: object\n",
            "\n",
            "2 name       manoj\n",
            "degree    M.Tech\n",
            "score         88\n",
            "Name: 2, dtype: object\n",
            "\n",
            "3 name      shambhu\n",
            "degree        MBA\n",
            "score          98\n",
            "Name: 3, dtype: object\n",
            "\n"
          ],
          "name": "stdout"
        }
      ]
    },
    {
      "cell_type": "code",
      "metadata": {
        "id": "dLr_v9w9XRS_",
        "outputId": "a2ad8f62-a9db-4067-fa58-9a5160f328f7",
        "colab": {
          "base_uri": "https://localhost:8080/"
        }
      },
      "source": [
        "# importing pandas as pd\n",
        "import pandas as pd\n",
        "   \n",
        "# dictionary of lists\n",
        "dict = {'name':[\"shaid\", \"shraban\", \"manoj\", \"shambhu\"],\n",
        "        'degree': [\"BTECH\", \"CSIT\", \"M.Tech\", \"MBA\"],\n",
        "        'score':[95, 48, 88, 98]}\n",
        "  \n",
        "# creating a dataframe from a dictionary \n",
        "df = pd.DataFrame(dict)\n",
        " \n",
        "print(df)"
      ],
      "execution_count": null,
      "outputs": [
        {
          "output_type": "stream",
          "text": [
            "      name  degree  score\n",
            "0    shaid   BTECH     95\n",
            "1  shraban    CSIT     48\n",
            "2    manoj  M.Tech     88\n",
            "3  shambhu     MBA     98\n"
          ],
          "name": "stdout"
        }
      ]
    },
    {
      "cell_type": "code",
      "metadata": {
        "id": "NaJNWiAaXhz3",
        "outputId": "2c52be7d-58d3-4c9a-bbf8-ed4dba9dae38",
        "colab": {
          "base_uri": "https://localhost:8080/"
        }
      },
      "source": [
        "# creating a list of dataframe columns\n",
        "columns = list(df)\n",
        " \n",
        "for i in columns:\n",
        " \n",
        "    # printing the third element of the column\n",
        "    print (df[i][0])"
      ],
      "execution_count": null,
      "outputs": [
        {
          "output_type": "stream",
          "text": [
            "shaid\n",
            "BTECH\n",
            "95\n"
          ],
          "name": "stdout"
        }
      ]
    }
  ]
}